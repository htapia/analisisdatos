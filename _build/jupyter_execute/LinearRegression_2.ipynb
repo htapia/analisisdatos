{
 "cells": [
  {
   "cell_type": "markdown",
   "id": "9dfc7bac-1341-4198-8f49-44a0c4348f6b",
   "metadata": {},
   "source": [
    "# Linear Regression 2\n",
    "\n",
    "We continue the discussion of linear regression because it is instructive to see it in a matrix form. Consider the "
   ]
  },
  {
   "cell_type": "code",
   "execution_count": 1,
   "id": "1bfc1209-ee3d-4fd1-bd75-75565b9248cd",
   "metadata": {},
   "outputs": [],
   "source": [
    "import numpy as np\n",
    "import matplotlib.pyplot as plt\n",
    "\n",
    "x = np.array([0, 1, 2, 3, 4, 5, 6, 7, 8, 9])\n",
    "y = np.array([5.1, 5.5, 8.4, 11.1, 11.8, 14.4, 16.1, 19.5, 20.2, 23.1])"
   ]
  },
  {
   "cell_type": "markdown",
   "id": "cabc05fd-b2c4-4a60-84ac-14dc789b175c",
   "metadata": {},
   "source": [
    "It is instructive to notice the following, let $\\mathbf{1}_{n}$ be a $n$ vector containing only ones: \n",
    "\n",
    "$$\\mathbf{1}_{n}=\\underbrace{[1,\\cdots,1]}_n,$$ \n",
    "\n",
    "let's calculate \n",
    "\n",
    "$$\\mathbf{1}_{n}^T \\mathbf{1}_{n},$$\n",
    "\n",
    "recall that $\\mathbf{1}_{n}^T=\\begin{bmatrix}\n",
    "1  \\\\\n",
    "1  \\\\\n",
    "\\vdots   \\\\\n",
    "1\n",
    "\\end{bmatrix}$, therefore\n",
    "\n",
    "$$\n",
    "\\begin{align*}\n",
    " \\mathbf{1}_{n}^T \\mathbf{1}_{n} &= [1,\\cdots,1] \\begin{bmatrix}\n",
    "1  \\\\\n",
    "1  \\\\\n",
    "\\vdots   \\\\\n",
    "1\n",
    "\\end{bmatrix}\\\\\n",
    "   &= \\underbrace{1\\cdot1 + \\cdots + 1\\cdot 1}_n\\\\\n",
    "   &= \\underbrace{1+\\cdots+1}_n \\\\\n",
    "   &= n\n",
    "\\end{align*}\n",
    "$$\n",
    "\n",
    "Let's check this numerically:"
   ]
  },
  {
   "cell_type": "code",
   "execution_count": 2,
   "id": "a664697c-cfbf-486e-842e-d425b490ef69",
   "metadata": {},
   "outputs": [
    {
     "data": {
      "text/plain": [
       "array([1., 1., 1., 1., 1., 1., 1., 1., 1., 1.])"
      ]
     },
     "execution_count": 2,
     "metadata": {},
     "output_type": "execute_result"
    }
   ],
   "source": [
    "n= 10\n",
    "ones = np.ones(n)\n",
    "ones"
   ]
  },
  {
   "cell_type": "code",
   "execution_count": 3,
   "id": "d933df2c-600c-478c-aac2-e3e6b314216f",
   "metadata": {},
   "outputs": [
    {
     "data": {
      "text/plain": [
       "array([1., 1., 1., 1., 1., 1., 1., 1., 1., 1.])"
      ]
     },
     "execution_count": 3,
     "metadata": {},
     "output_type": "execute_result"
    }
   ],
   "source": [
    "ones.transpose()"
   ]
  },
  {
   "cell_type": "code",
   "execution_count": 4,
   "id": "8fa9520c-1dbe-4fba-ab0d-4b84e109b8db",
   "metadata": {},
   "outputs": [
    {
     "data": {
      "text/plain": [
       "10.0"
      ]
     },
     "execution_count": 4,
     "metadata": {},
     "output_type": "execute_result"
    }
   ],
   "source": [
    "ones.dot(ones.transpose())"
   ]
  },
  {
   "cell_type": "code",
   "execution_count": null,
   "id": "186c848c-d994-42c9-a07a-3948237c30d8",
   "metadata": {},
   "outputs": [],
   "source": []
  }
 ],
 "metadata": {
  "kernelspec": {
   "display_name": "Python 3 (ipykernel)",
   "language": "python",
   "name": "python3"
  },
  "language_info": {
   "codemirror_mode": {
    "name": "ipython",
    "version": 3
   },
   "file_extension": ".py",
   "mimetype": "text/x-python",
   "name": "python",
   "nbconvert_exporter": "python",
   "pygments_lexer": "ipython3",
   "version": "3.11.5"
  }
 },
 "nbformat": 4,
 "nbformat_minor": 5
}